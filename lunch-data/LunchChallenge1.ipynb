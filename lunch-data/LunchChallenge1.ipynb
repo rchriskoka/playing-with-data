{
 "cells": [
  {
   "cell_type": "code",
   "execution_count": 5,
   "metadata": {},
   "outputs": [],
   "source": [
    "#Importing Libraries\n",
    "import pandas as pd\n",
    "import numpy as np\n",
    "import matplotlib.pyplot as plt\n",
    "from matplotlib import style\n",
    "from sklearn.impute import SimpleImputer\n",
    "style.use(\"fivethirtyeight\")"
   ]
  },
  {
   "cell_type": "code",
   "execution_count": 3,
   "metadata": {},
   "outputs": [],
   "source": [
    "#Reading xlsx file into pandas dataframe\n",
    "companies= pd.read_excel(\"companies.xlsx\")\n",
    "company_costs = pd.read_excel(\"company_costs.xlsx\")\n",
    "daily_totals = pd.read_excel(\"daily_totals.xlsx\")\n",
    "meals = pd.read_excel(\"meals.xlsx\")\n",
    "menu_meals = pd.read_excel(\"menu_meals.xlsx\")\n",
    "menus = pd.read_excel(\"menus.xlsx\")\n",
    "no_orders = pd.read_excel(\"no_orders.xlsx\")\n",
    "orders = pd.read_excel(\"orders.xlsx\")\n",
    "users = pd.read_excel(\"users.xlsx\")"
   ]
  },
  {
   "cell_type": "code",
   "execution_count": 1,
   "metadata": {},
   "outputs": [],
   "source": [
    "#imputer = SimpleImputer(missing_values ='Nan', strategy = 'mean', axis=0)\n"
   ]
  },
  {
   "cell_type": "code",
   "execution_count": 54,
   "metadata": {},
   "outputs": [
    {
     "name": "stdout",
     "output_type": "stream",
     "text": [
      "<bound method DataFrame.head of    Id          Name\n",
      "0   1    Gelato Inc\n",
      "1   2        Fairpo\n",
      "2   3  Yellow Peels>\n",
      "Id      0\n",
      "Name    0\n",
      "dtype: int64\n",
      "0\n",
      "Index([u'Id', u'Name'], dtype='object')\n",
      "Id is unique: True\n",
      "Name is unique: True\n"
     ]
    }
   ],
   "source": [
    "print companies.head\n",
    "print companies.isnull().sum()\n",
    "print companies.isnull().sum().sum()\n",
    "\n",
    "#Get columnn names\n",
    "column_names = companies.columns\n",
    "print(column_names)\n",
    "\n",
    "#Get column types\n",
    "companies.dtypes\n",
    "\n",
    "#Checking if the column is unique\n",
    "for i in column_names:\n",
    "    print('{} is unique: {}'.format(i, companies[i].is_unique))"
   ]
  },
  {
   "cell_type": "code",
   "execution_count": 55,
   "metadata": {},
   "outputs": [
    {
     "name": "stdout",
     "output_type": "stream",
     "text": [
      "   Id       Date  Company ID  Total Amount Paid\n",
      "0   6 2019-02-27           1                  0\n",
      "1   5 2019-02-26           1                  0\n",
      "2   4 2019-02-25           1                  0\n",
      "3   7 2019-03-04           1                 65\n",
      "4   8 2019-03-06           1                  0\n",
      "Id                   0\n",
      "Date                 0\n",
      "Company ID           0\n",
      "Total Amount Paid    0\n",
      "dtype: int64\n",
      "0\n",
      "Index([u'Id', u'Date', u'Company ID', u'Total Amount Paid'], dtype='object')\n",
      "Id is unique: True\n",
      "Date is unique: False\n",
      "Company ID is unique: False\n",
      "Total Amount Paid is unique: False\n"
     ]
    }
   ],
   "source": [
    "print company_costs.head()\n",
    "print company_costs.isnull().sum()\n",
    "print company_costs.isnull().sum().sum()\n",
    "\n",
    "#Get columnn names\n",
    "column_names = company_costs.columns\n",
    "print(column_names)\n",
    "\n",
    "#Get column types\n",
    "company_costs.dtypes\n",
    "\n",
    "#Checking if the column is unique\n",
    "for i in column_names:\n",
    "    print('{} is unique: {}'.format(i, company_costs[i].is_unique))"
   ]
  },
  {
   "cell_type": "code",
   "execution_count": 56,
   "metadata": {},
   "outputs": [
    {
     "name": "stdout",
     "output_type": "stream",
     "text": [
      "   Id       Date  Total_collected\n",
      "0   1 2019-02-25              120\n",
      "1   2 2019-02-26               40\n",
      "2   3 2019-03-01               10\n",
      "3   4 2019-03-04              130\n",
      "4   5 2019-03-05              130\n",
      "Id                 0\n",
      "Date               0\n",
      "Total_collected    0\n",
      "dtype: int64\n",
      "0\n",
      "Index([u'Id', u'Date', u'Total_collected'], dtype='object')\n",
      "Id is unique: True\n",
      "Date is unique: True\n",
      "Total_collected is unique: False\n"
     ]
    }
   ],
   "source": [
    "print daily_totals.head()\n",
    "print daily_totals.isnull().sum()\n",
    "print daily_totals.isnull().sum().sum()\n",
    "\n",
    "#Get columnn names\n",
    "column_names = daily_totals.columns\n",
    "print(column_names)\n",
    "\n",
    "#Get column types\n",
    "daily_totals.dtypes\n",
    "\n",
    "#Checking if the column is unique\n",
    "for i in column_names:\n",
    "    print('{} is unique: {}'.format(i, daily_totals[i].is_unique))"
   ]
  },
  {
   "cell_type": "code",
   "execution_count": 57,
   "metadata": {},
   "outputs": [
    {
     "name": "stdout",
     "output_type": "stream",
     "text": [
      "   Id                              Main_Meal        Side_Dish  Total_Cost\n",
      "0   1      Jollof, Tossed Vegetables + Sauce          Chicken          12\n",
      "1   2            Banku, Green & Black Pepper  Grilled Tilapia          12\n",
      "2   3  Fried Rice, Tossed Vegetables + Sauce          Chicken          12\n",
      "3   4      Jollof, Tossed Vegetables + Sauce         Red Fish          12\n",
      "4   5      Jollof, Tossed Vegetables + Sauce          Gizzard          12\n",
      "Id            0\n",
      "Main_Meal     0\n",
      "Side_Dish     0\n",
      "Total_Cost    0\n",
      "dtype: int64\n",
      "0\n",
      "Index([u'Id', u'Main_Meal', u'Side_Dish', u'Total_Cost'], dtype='object')\n",
      "Id is unique: True\n",
      "Main_Meal is unique: False\n",
      "Side_Dish is unique: False\n",
      "Total_Cost is unique: False\n"
     ]
    }
   ],
   "source": [
    "print meals.head()\n",
    "print meals.isnull().sum()\n",
    "print meals.isnull().sum().sum()\n",
    "\n",
    "#Get columnn names\n",
    "column_names = meals.columns\n",
    "print(column_names)\n",
    "\n",
    "#Get column types\n",
    "meals.dtypes\n",
    "\n",
    "#Checking if the column is unique\n",
    "for i in column_names:\n",
    "    print('{} is unique: {}'.format(i, meals[i].is_unique))"
   ]
  },
  {
   "cell_type": "code",
   "execution_count": 59,
   "metadata": {},
   "outputs": [
    {
     "name": "stdout",
     "output_type": "stream",
     "text": [
      "   Menu_id  Meal_id\n",
      "0        4       48\n",
      "1        1        1\n",
      "2        1       47\n",
      "3        2        3\n",
      "4        2        1\n",
      "Menu_id    0\n",
      "Meal_id    0\n",
      "dtype: int64\n",
      "0\n",
      "Index([u'Menu_id', u'Meal_id'], dtype='object')\n",
      "Menu_id is unique: False\n",
      "Meal_id is unique: False\n"
     ]
    }
   ],
   "source": [
    "print menu_meals.head()\n",
    "print menu_meals.isnull().sum()\n",
    "print menu_meals.isnull().sum().sum()\n",
    "\n",
    "#Get columnn names\n",
    "column_names = menu_meals.columns\n",
    "print(column_names)\n",
    "\n",
    "#Get column types\n",
    "menu_meals.dtypes\n",
    "\n",
    "#Checking if the column is unique\n",
    "for i in column_names:\n",
    "    print('{} is unique: {}'.format(i, menu_meals[i].is_unique))"
   ]
  },
  {
   "cell_type": "code",
   "execution_count": 60,
   "metadata": {},
   "outputs": [
    {
     "name": "stdout",
     "output_type": "stream",
     "text": [
      "   Id        Day\n",
      "0   1     Monday\n",
      "1   2    Tuesday\n",
      "2   3  Wednesday\n",
      "3   4   Thursday\n",
      "4   5     Friday\n",
      "Id     0\n",
      "Day    0\n",
      "dtype: int64\n",
      "0\n",
      "Index([u'Id', u'Day'], dtype='object')\n",
      "Id is unique: True\n",
      "Day is unique: True\n"
     ]
    }
   ],
   "source": [
    "print menus.head()\n",
    "print menus.isnull().sum()\n",
    "print menus.isnull().sum().sum()\n",
    "\n",
    "#Get columnn names\n",
    "column_names = menus.columns\n",
    "print(column_names)\n",
    "\n",
    "#Get column types\n",
    "menus.dtypes\n",
    "\n",
    "#Checking if the column is unique\n",
    "for i in column_names:\n",
    "    print('{} is unique: {}'.format(i, menus[i].is_unique))"
   ]
  },
  {
   "cell_type": "code",
   "execution_count": 61,
   "metadata": {},
   "outputs": [
    {
     "name": "stdout",
     "output_type": "stream",
     "text": [
      "   ID       Date User_ID  Unnamed: 3          Unnamed: 4          Start_date  \\\n",
      "0   1 2019-02-25   GI402         NaN                 NaT 2019-02-28 20:18:10   \n",
      "1   2 2019-02-26   GI402         NaN                 NaT 2019-02-28 20:18:55   \n",
      "2   3 2019-02-27   GI402         NaN                 NaT 2019-02-28 20:19:09   \n",
      "3   4 2019-03-04   GI402         NaN                 NaT 2019-03-01 14:11:41   \n",
      "4   5 2019-03-06   GI402         NaN 2019-03-08 16:26:14 2019-03-01 14:12:02   \n",
      "\n",
      "             End_Date  \n",
      "0 2019-02-28 20:18:10  \n",
      "1 2019-02-28 20:18:55  \n",
      "2 2019-02-28 20:19:09  \n",
      "3 2019-03-01 14:11:41  \n",
      "4 2019-03-08 16:26:14  \n",
      "ID             0\n",
      "Date           0\n",
      "User_ID        0\n",
      "Unnamed: 3    38\n",
      "Unnamed: 4    28\n",
      "Start_date     0\n",
      "End_Date       0\n",
      "dtype: int64\n",
      "66\n",
      "Index([u'ID', u'Date', u'User_ID', u'Unnamed: 3', u'Unnamed: 4', u'Start_date',\n",
      "       u'End_Date'],\n",
      "      dtype='object')\n",
      "ID is unique: True\n",
      "Date is unique: False\n",
      "User_ID is unique: False\n",
      "Unnamed: 3 is unique: False\n",
      "Unnamed: 4 is unique: False\n",
      "Start_date is unique: True\n",
      "End_Date is unique: True\n"
     ]
    }
   ],
   "source": [
    "print no_orders.head()\n",
    "print no_orders.isnull().sum()\n",
    "print no_orders.isnull().sum().sum()\n",
    "\n",
    "#Get columnn names\n",
    "column_names = no_orders.columns\n",
    "print(column_names)\n",
    "\n",
    "#Get column types\n",
    "no_orders.dtypes\n",
    "\n",
    "#Dropping unwanted columns\n",
    "columns_to_drop = []\n",
    "\n",
    "#Checking if the column is unique\n",
    "for i in column_names:\n",
    "    print('{} is unique: {}'.format(i, no_orders[i].is_unique))"
   ]
  },
  {
   "cell_type": "code",
   "execution_count": 86,
   "metadata": {},
   "outputs": [
    {
     "name": "stdout",
     "output_type": "stream",
     "text": [
      "   ID       Date User_ID  Meal_ID  Company_Id  \\\n",
      "0  34 2019-03-04   GI272       28           1   \n",
      "1  33 2019-03-04   GI600       28           1   \n",
      "2  31 2019-03-04   GI661        3           1   \n",
      "3  32 2019-03-04   GI919        3           1   \n",
      "4  30 2019-03-04   GI236        1           1   \n",
      "\n",
      "                               Comments  \n",
      "0  I don't like brown eggs I want white  \n",
      "1                           No Comments  \n",
      "2                           No Comments  \n",
      "3                           No Comments  \n",
      "4                           No Comments  \n",
      "ID            0\n",
      "Date          0\n",
      "User_ID       0\n",
      "Meal_ID       0\n",
      "Company_Id    0\n",
      "Comments      0\n",
      "dtype: int64\n",
      "0\n",
      "Index([u'ID', u'Date', u'User_ID', u'Meal_ID', u'Company_Id', u'Comments'], dtype='object')\n",
      "ID is unique: True\n",
      "Date is unique: False\n",
      "User_ID is unique: False\n",
      "Meal_ID is unique: False\n",
      "Company_Id is unique: False\n",
      "Comments is unique: False\n"
     ]
    }
   ],
   "source": [
    "print orders.head()\n",
    "print orders.isnull().sum()\n",
    "print orders.isnull().sum().sum()\n",
    "\n",
    "#Get columnn names\n",
    "column_names = orders.columns\n",
    "print(column_names)\n",
    "\n",
    "#Get column types\n",
    "orders.dtypes\n",
    "orders['Comments'].fillna(\"No Comments\", inplace=True)\n",
    "\n",
    "\n",
    "#Checking if the column is unique\n",
    "for i in column_names:\n",
    "    print('{} is unique: {}'.format(i, orders[i].is_unique))"
   ]
  },
  {
   "cell_type": "code",
   "execution_count": 82,
   "metadata": {},
   "outputs": [
    {
     "name": "stdout",
     "output_type": "stream",
     "text": [
      "  User_ID     User_Name        User_Email  Company_ID\n",
      "0   GI001  Audrey Adjei  Audrey@gmail.com           1\n",
      "1   GI272     Jay Shadi      Jay@gtzd.com           1\n",
      "2   GI645      Ama Lucy      ama@gtzd.com           1\n",
      "3   GI818   Kenpong Adu  Kenpong@gtzd.com           1\n",
      "4   GI800     Ike Moses      Ike@gtzd.com           1\n",
      "User_ID       0\n",
      "User_Name     0\n",
      "User_Email    0\n",
      "Company_ID    0\n",
      "dtype: int64\n",
      "0\n",
      "Index([u'User_ID', u'User_Name', u'User_Email', u'Company_ID'], dtype='object')\n",
      "User_ID is unique: True\n",
      "User_Name is unique: True\n",
      "User_Email is unique: True\n",
      "Company_ID is unique: False\n"
     ]
    }
   ],
   "source": [
    "print users.head()\n",
    "\n",
    "print users.isnull().sum()\n",
    "print users.isnull().sum().sum()\n",
    "\n",
    "#Get columnn names\n",
    "column_names = users.columns\n",
    "print(column_names)\n",
    "\n",
    "#Get column types\n",
    "users.dtypes\n",
    "\n",
    "#Checking if the column is unique\n",
    "for i in column_names:\n",
    "    print('{} is unique: {}'.format(i, users[i].is_unique))"
   ]
  },
  {
   "cell_type": "code",
   "execution_count": 83,
   "metadata": {},
   "outputs": [
    {
     "name": "stdout",
     "output_type": "stream",
     "text": [
      "(21, 4)\n"
     ]
    }
   ],
   "source": [
    "print users.shape"
   ]
  },
  {
   "cell_type": "code",
   "execution_count": 84,
   "metadata": {},
   "outputs": [
    {
     "name": "stdout",
     "output_type": "stream",
     "text": [
      "(3, 2)\n"
     ]
    }
   ],
   "source": [
    "print companies.shape"
   ]
  },
  {
   "cell_type": "code",
   "execution_count": 6,
   "metadata": {},
   "outputs": [
    {
     "data": {
      "image/png": "[encoded data removed]",
      "text/plain": [
       "<Figure size 432x288 with 1 Axes>"
      ]
     },
     "metadata": {},
     "output_type": "display_data"
    }
   ],
   "source": [
    "users.plot()\n",
    "plt.show()"
   ]
  },
  {
   "cell_type": "code",
   "execution_count": 8,
   "metadata": {},
   "outputs": [
    {
     "data": {
      "image/png": "[encoded data removed]",
      "text/plain": [
       "<Figure size 432x288 with 1 Axes>"
      ]
     },
     "metadata": {},
     "output_type": "display_data"
    }
   ],
   "source": [
    "menus.plot()\n",
    "plt.show()"
   ]
  },
  {
   "cell_type": "code",
   "execution_count": 10,
   "metadata": {},
   "outputs": [
    {
     "data": {
      "image/png": "[encoded data removed]",
      "text/plain": [
       "<Figure size 432x288 with 1 Axes>"
      ]
     },
     "metadata": {},
     "output_type": "display_data"
    }
   ],
   "source": [
    "menu_meals.plot()\n",
    "plt.show()"
   ]
  },
  {
   "cell_type": "code",
   "execution_count": 11,
   "metadata": {},
   "outputs": [
    {
     "data": {
      "image/png": "[encoded data removed]",
      "text/plain": [
       "<Figure size 432x288 with 1 Axes>"
      ]
     },
     "metadata": {},
     "output_type": "display_data"
    }
   ],
   "source": [
    "meals.plot()\n",
    "plt.show()"
   ]
  },
  {
   "cell_type": "code",
   "execution_count": 15,
   "metadata": {},
   "outputs": [
    {
     "data": {
      "image/png": "[encoded data removed]",
      "text/plain": [
       "<Figure size 432x288 with 1 Axes>"
      ]
     },
     "metadata": {},
     "output_type": "display_data"
    }
   ],
   "source": [
    "companies.plot()\n",
    "plt.show()"
   ]
  },
  {
   "cell_type": "raw",
   "metadata": {},
   "source": [
    "orders.plot()\n",
    "plt.show()"
   ]
  },
  {
   "cell_type": "code",
   "execution_count": 27,
   "metadata": {},
   "outputs": [],
   "source": [
    "df = pd.concat([companies,company_costs,daily_totals,meals,menu_meals,menus,no_orders,orders,users], sort=False)"
   ]
  },
  {
   "cell_type": "code",
   "execution_count": null,
   "metadata": {},
   "outputs": [],
   "source": []
  },
  {
   "cell_type": "code",
   "execution_count": null,
   "metadata": {},
   "outputs": [],
   "source": []
  },
  {
   "cell_type": "code",
   "execution_count": null,
   "metadata": {},
   "outputs": [],
   "source": []
  }
 ],
 "metadata": {
  "kernelspec": {
   "display_name": "Python 3",
   "language": "python",
   "name": "python3"
  },
  "language_info": {
   "codemirror_mode": {
    "name": "ipython",
    "version": 3
   },
   "file_extension": ".py",
   "mimetype": "text/x-python",
   "name": "python",
   "nbconvert_exporter": "python",
   "pygments_lexer": "ipython3",
   "version": "3.6.8"
  }
 },
 "nbformat": 4,
 "nbformat_minor": 2
}
